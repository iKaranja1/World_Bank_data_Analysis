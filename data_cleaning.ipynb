{
 "cells": [
  {
   "cell_type": "markdown",
   "id": "0e1c6108",
   "metadata": {},
   "source": [
    "## DATA CLEANING FOR WORLD BANK DATA"
   ]
  },
  {
   "cell_type": "code",
   "execution_count": null,
   "id": "927576f5",
   "metadata": {
    "vscode": {
     "languageId": "plaintext"
    }
   },
   "outputs": [],
   "source": []
  }
 ],
 "metadata": {
  "language_info": {
   "name": "python"
  }
 },
 "nbformat": 4,
 "nbformat_minor": 5
}
